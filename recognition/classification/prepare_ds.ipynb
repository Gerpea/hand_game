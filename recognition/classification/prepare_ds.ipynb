{
 "cells": [
  {
   "cell_type": "markdown",
   "metadata": {},
   "source": [
    "# Place your sample.json file from client nearby first"
   ]
  },
  {
   "cell_type": "code",
   "execution_count": 2,
   "metadata": {},
   "outputs": [],
   "source": [
    "samples_path = 'raw/samples_1697144368492.json'\n",
    "ds_path = 'ds'"
   ]
  },
  {
   "cell_type": "markdown",
   "metadata": {},
   "source": [
    "## Export to yolo format"
   ]
  },
  {
   "cell_type": "code",
   "execution_count": 4,
   "metadata": {},
   "outputs": [],
   "source": [
    "import json\n",
    "import base64\n",
    "from PIL import Image\n",
    "from io import BytesIO\n",
    "import os\n",
    "\n",
    "with open(samples_path) as samples_file:\n",
    "    samples = json.load(samples_file)\n",
    "\n",
    "counter = {}\n",
    "for sample in samples:\n",
    "    # Remove 'data:image/png;base64,'\n",
    "    imagestr = sample['image'][sample['image'].find(\",\")+1:]\n",
    "    # Convert base64 image to PIL \n",
    "    imgdata = base64.b64decode(imagestr)\n",
    "    img = Image.open(BytesIO(imgdata)).convert('RGB')\n",
    "    \n",
    "    gesture = sample[\"gesture\"]\n",
    "    if gesture in counter: \n",
    "        counter[gesture] += 1\n",
    "    else :\n",
    "        counter[gesture] = 0\n",
    "    \n",
    "    # Crop the hand from image \n",
    "    box = sample['box']\n",
    "    img = img.crop((box['x']-box['x']/10, box['y']-box['y']/10, box['x'] + box['w']+box['x']/10, box['y'] + box['h']+box['y']/10))\n",
    "    img = img.resize((416, 416))\n",
    "    \n",
    "    # Save each class to separate folder inside ds_path\n",
    "    save_path = f'{ds_path}/{sample[\"gesture\"]}'\n",
    "    if not os.path.exists(save_path):\n",
    "            os.makedirs(save_path)\n",
    "    img.save(save_path + f'/{sample[\"gesture\"]}_{counter.get(gesture)}.jpg')"
   ]
  },
  {
   "cell_type": "markdown",
   "metadata": {},
   "source": [
    "## Augment data"
   ]
  },
  {
   "cell_type": "code",
   "execution_count": 10,
   "metadata": {},
   "outputs": [
    {
     "name": "stdout",
     "output_type": "stream",
     "text": [
      "Initialised with 87 image(s) found.\n",
      "Output directory set to ds/../augmented."
     ]
    },
    {
     "name": "stderr",
     "output_type": "stream",
     "text": [
      "Processing <PIL.Image.Image image mode=RGB size=416x416 at 0x7F207C5A7310>: 100%|██████████| 1000/1000 [00:02<00:00, 360.29 Samples/s]                  \n"
     ]
    }
   ],
   "source": [
    "import Augmentor\n",
    "\n",
    "p = Augmentor.Pipeline(ds_path, output_directory='../augmented')\n",
    "p.rotate(probability=0.7, max_left_rotation=15, max_right_rotation=15)\n",
    "p.zoom(probability=0.5, min_factor=1.05, max_factor=1.2)\n",
    "p.flip_left_right(probability=0.5)\n",
    "\n",
    "# Make 10000 in total from input and save this to 'augmented' dir\n",
    "p.sample(1000)"
   ]
  },
  {
   "cell_type": "markdown",
   "metadata": {},
   "source": [
    "## Split to train and val"
   ]
  },
  {
   "cell_type": "code",
   "execution_count": 11,
   "metadata": {},
   "outputs": [
    {
     "name": "stderr",
     "output_type": "stream",
     "text": [
      "Copying files: 1000 files [00:00, 11319.77 files/s]\n"
     ]
    }
   ],
   "source": [
    "import splitfolders\n",
    "\n",
    "splitfolders.ratio(\"augmented\", output=f\"{ds_path}/ds\", ratio=(.8, .2), group_prefix=None, move=False)"
   ]
  }
 ],
 "metadata": {
  "kernelspec": {
   "display_name": "recognition",
   "language": "python",
   "name": "python3"
  },
  "language_info": {
   "codemirror_mode": {
    "name": "ipython",
    "version": 3
   },
   "file_extension": ".py",
   "mimetype": "text/x-python",
   "name": "python",
   "nbconvert_exporter": "python",
   "pygments_lexer": "ipython3",
   "version": "3.10.6"
  }
 },
 "nbformat": 4,
 "nbformat_minor": 2
}
